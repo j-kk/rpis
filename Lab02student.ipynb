{
 "cells": [
  {
   "cell_type": "markdown",
   "metadata": {},
   "source": [
    "# Discrete sampling\n",
    "In the last problem of the first session we sampled with given probabilities using prefix sums and binary search. The sampling code is the bottleneck of the whole process, its running times is 3 times higher than the code for uniform probabilities, and the difference would only increase for larger number of outcomes. In the next two problems we discuss two simple, but powerful techniques one can use to sample in time $O(1)$."
   ]
  },
  {
   "cell_type": "markdown",
   "metadata": {},
   "source": [
    "**Problem 2a.** Consider the problem of sampling with known probabilities $p_1,\\ldots,p_d$. Suppose that you have a black-box that samples with probabilities $q_1,\\ldots,q_d$ that are close to $p_1,\\ldots,p_d$, say\n",
    "$$ \\forall_{i=1,\\ldots,n} p_i \\le (1+\\varepsilon)q_i.$$\n",
    "\n",
    "* How can you use this black-box to sample with probabilities $p_1,\\ldots,p_d$? It is expected, that the running time of the algorithm would be non-deterministic.\n",
    "* Prove that your algorithm is correct.\n",
    "* Implement the algorithm and use it to give a faster implementation for **Problem 1c**."
   ]
  },
  {
   "cell_type": "markdown",
   "metadata": {},
   "source": [
    "**Problem 2b.** One of the reasons this implementation is not significantly faster than the one in **Problem 1c** , apart from $d$ being rather small, is that we are using Python's interpreter a bit too much, and Python is slow. One way around this is usually to use a library function - **searchsorted** is much faster than an equivalent code implemented in pure Python. But even if the functionality you need is not implemented in a lower level language as\n",
    "a library function, there is still hope. You can try to implement it using optimized array algebra, for example using **numpy**. In this problem, your task is to rewrite the previous algorithm, so that the amount of *looping* is reduced to a minimum necessary. In particular, you should create a *vectorized* version of random dates generation (in bulk), while the actual search for duplicates remains a loop with a **set**. Here are some useful tips:\n",
    "   * You can perform arithmetic, comparisons, etc. on **numpy** arrays.\n",
    "   * You can generate whole **numpy** arrays of random numbers at once.\n",
    "   * You can even perform parallel look-up like in the example below."
   ]
  },
  {
   "cell_type": "code",
   "execution_count": 1,
   "metadata": {
    "collapsed": false
   },
   "outputs": [
    {
     "ename": "NameError",
     "evalue": "name 'np' is not defined",
     "output_type": "error",
     "traceback": [
      "\u001b[1;31m---------------------------------------------------------------------------\u001b[0m",
      "\u001b[1;31mNameError\u001b[0m                                 Traceback (most recent call last)",
      "\u001b[1;32m<ipython-input-1-542ca56e10d0>\u001b[0m in \u001b[0;36m<module>\u001b[1;34m()\u001b[0m\n\u001b[1;32m----> 1\u001b[1;33m \u001b[0mX\u001b[0m \u001b[1;33m=\u001b[0m \u001b[0mnp\u001b[0m\u001b[1;33m.\u001b[0m\u001b[0marray\u001b[0m\u001b[1;33m(\u001b[0m\u001b[1;33m[\u001b[0m\u001b[1;36m10\u001b[0m\u001b[1;33m,\u001b[0m\u001b[1;36m3\u001b[0m\u001b[1;33m,\u001b[0m\u001b[1;36m7\u001b[0m\u001b[1;33m]\u001b[0m\u001b[1;33m)\u001b[0m\u001b[1;33m\u001b[0m\u001b[0m\n\u001b[0m\u001b[0;32m      2\u001b[0m \u001b[0mI\u001b[0m \u001b[1;33m=\u001b[0m \u001b[0mnp\u001b[0m\u001b[1;33m.\u001b[0m\u001b[0marray\u001b[0m\u001b[1;33m(\u001b[0m\u001b[1;33m[\u001b[0m\u001b[1;36m1\u001b[0m\u001b[1;33m,\u001b[0m\u001b[1;36m1\u001b[0m\u001b[1;33m,\u001b[0m\u001b[1;36m2\u001b[0m\u001b[1;33m,\u001b[0m\u001b[1;36m2\u001b[0m\u001b[1;33m]\u001b[0m\u001b[1;33m)\u001b[0m\u001b[1;33m\u001b[0m\u001b[0m\n\u001b[0;32m      3\u001b[0m \u001b[1;32mprint\u001b[0m\u001b[1;33m(\u001b[0m\u001b[0mX\u001b[0m\u001b[1;33m[\u001b[0m\u001b[0mI\u001b[0m\u001b[1;33m]\u001b[0m\u001b[1;33m)\u001b[0m\u001b[1;33m\u001b[0m\u001b[0m\n\u001b[0;32m      4\u001b[0m \u001b[0mX\u001b[0m \u001b[1;33m=\u001b[0m \u001b[0mnp\u001b[0m\u001b[1;33m.\u001b[0m\u001b[0marray\u001b[0m\u001b[1;33m(\u001b[0m\u001b[1;33m[\u001b[0m\u001b[1;33m[\u001b[0m\u001b[1;36m1\u001b[0m\u001b[1;33m,\u001b[0m\u001b[1;36m2\u001b[0m\u001b[1;33m]\u001b[0m\u001b[1;33m,\u001b[0m\u001b[1;33m[\u001b[0m\u001b[1;36m3\u001b[0m\u001b[1;33m,\u001b[0m\u001b[1;36m4\u001b[0m\u001b[1;33m]\u001b[0m\u001b[1;33m]\u001b[0m\u001b[1;33m)\u001b[0m\u001b[1;33m\u001b[0m\u001b[0m\n\u001b[0;32m      5\u001b[0m \u001b[0mI\u001b[0m \u001b[1;33m=\u001b[0m \u001b[0mnp\u001b[0m\u001b[1;33m.\u001b[0m\u001b[0marray\u001b[0m\u001b[1;33m(\u001b[0m\u001b[1;33m[\u001b[0m\u001b[1;36m0\u001b[0m\u001b[1;33m,\u001b[0m\u001b[1;36m0\u001b[0m\u001b[1;33m,\u001b[0m\u001b[1;36m1\u001b[0m\u001b[1;33m]\u001b[0m\u001b[1;33m)\u001b[0m\u001b[1;33m\u001b[0m\u001b[0m\n",
      "\u001b[1;31mNameError\u001b[0m: name 'np' is not defined"
     ]
    }
   ],
   "source": [
    "X = np.array([10,3,7])\n",
    "I = np.array([1,1,2,2])\n",
    "print(X[I])\n",
    "X = np.array([[1,2],[3,4]])\n",
    "I = np.array([0,0,1])\n",
    "J = np.array([1,0,1])\n",
    "print(X[I,J])"
   ]
  },
  {
   "cell_type": "markdown",
   "metadata": {},
   "source": [
    "**Problem 2c (Squaring the histogram).** In this problem, we again want to sample with known probabilities $p_1,\\ldots,p_n$, but this time we make no assumptions on $p_i$. Consider the following algorithm:\n",
    "   * Let $V$ be the mean of $p_i$, i.e. $V=\\frac{1}{n}$.\n",
    "   * Create $n$ buckets, each with volume $V$, put each $p_i$ into a separate bucket.\n",
    "   * Until there exists a bucket $A$ that is not full, find a bucket $B$ that overflows, and trasfer probability from $B$ to $A$ until $A$ is exactly full\n",
    "\n",
    "Show that:\n",
    "   * This algorithm always ends.\n",
    "   * When it ends, each bucket contains pieces of exactly two $p_i$'s.\n",
    "\n",
    "How to use the result of this algorithm to sample with probabilities $p_i$. Argue that your algorithm is correct and implement it. The sampling part should be *vectorized*. Use this algorithm to sample birthdates again, and test its efficiency."
   ]
  },
  {
   "cell_type": "markdown",
   "metadata": {},
   "source": [
    "Operation of transferring probability from one bucket to another doesn't change mean ($V = 1/n$).\n",
    "\n",
    "In each step we have two options:"
   ]
  },
  {
   "cell_type": "code",
   "execution_count": 4,
   "metadata": {
    "collapsed": false
   },
   "outputs": [
    {
     "name": "stdout",
     "output_type": "stream",
     "text": [
      "(array([3, 4, 2, 4, 4]), array([ 0.  ,  0.25,  0.5 ,  0.25,  0.5 ]))\n"
     ]
    }
   ],
   "source": [
    "import numpy as np\n",
    "\n",
    "p = np.linspace(0, 1, num=5)\n",
    "\n",
    "def squaring_histogram(p):\n",
    "    B = np.array(p, dtype='f') # Bucket\n",
    "    N = B.size\n",
    "\n",
    "    mean = np.mean(B)\n",
    "    \n",
    "    Donor = np.arange(N)\n",
    "    Probs = np.empty(N)\n",
    "    Probs.fill(mean)\n",
    "\n",
    "    while np.count_nonzero(B < mean):\n",
    "\n",
    "        i = np.where(B < mean)[0][0]\n",
    "        j = np.where(B > mean)[0][0]\n",
    "\n",
    "        Donor[i] = j\n",
    "        Probs[i] = B[i]\n",
    "        \n",
    "        B[j] = B[j] - (mean - B[i])\n",
    "        B[i] = mean\n",
    "        \n",
    "    return Donor, Probs\n",
    "\n",
    "print squaring_histogram(p)"
   ]
  },
  {
   "cell_type": "code",
   "execution_count": 12,
   "metadata": {
    "collapsed": false
   },
   "outputs": [
    {
     "name": "stdout",
     "output_type": "stream",
     "text": [
      "[63, 293, 114, 368, 35, 59, 114, 357, 276, 230, 163, 2, 170, 158, 201, 255, 325, 163, 286, 332, 348, 93, 228, 131, 183, 240, 49, 262, 370, 51, 67, 103, 150, 173, 364, 261, 159, 184, 220, 317, 275, 127, 166, 237, 346, 219, 287, 272, 360, 244, 230, 196, 248, 201, 241, 50, 10, 122, 369, 260, 48, 200, 229, 299, 329, 151, 276, 189, 93, 299, 260, 184, 230, 215, 15, 147, 158, 268, 143, 16, 296, 291, 89, 206, 362, 230, 12, 95, 238, 95, 81, 206, 341, 90, 33, 257, 111, 299, 174, 176, 45, 215, 281, 355, 97, 250, 217, 158, 77, 288, 318, 257, 67, 100, 272, 178, 197, 271, 214, 37, 17, 140, 213, 183, 298, 362, 104, 291, 195, 141, 42, 256, 210, 322, 190, 70, 84, 346, 30, 110, 131, 103, 161, 93, 6, 232, 155, 332, 368, 17, 128, 150, 282, 8, 56, 56, 85, 215, 35, 316, 72, 104, 367, 191, 130, 82, 238, 167, 203, 322, 63, 177, 206, 28, 93, 150, 265, 233, 62, 13, 53, 235, 182, 70, 26, 89, 237, 244, 284, 246, 212, 222, 205, 115, 220, 95, 348, 275, 249, 32, 209, 27, 152, 219, 129, 286, 50, 159, 40, 145, 107, 366, 122, 333, 279, 313, 74, 20, 249, 211, 182, 305, 120, 115, 171, 242, 78, 226, 163, 188, 261, 326, 166, 117, 245, 63, 336, 14, 200, 324, 64, 147, 80, 243, 284, 187, 89, 13, 234, 27, 264, 156, 295, 84, 220, 42, 344, 55, 328, 218, 225, 259, 345, 193, 308, 184, 6, 240, 176, 140, 213, 209, 350, 361, 204, 192, 323, 88, 171, 275, 52, 151, 48, 31, 18, 359, 314, 335, 254, 359, 139, 194, 146, 158, 170, 41, 172, 351, 267, 211, 45, 213, 153, 52, 221, 304, 331, 129, 211, 219, 264, 256, 263, 305, 294, 262, 223, 303, 222, 323, 96, 20, 44, 182, 299, 361, 357, 259, 88, 18, 174, 106, 341, 241, 57, 120, 106, 290, 223, 341, 189, 288, 26, 22, 287, 298, 31, 304, 186, 137, 124, 326, 336, 274, 15, 187, 251, 134, 81, 158, 273, 299, 130, 258, 58, 214, 90, 127, 26, 237, 161, 276, 69, 287, 43, 42, 266, 343, 152, 86, 2, 42, 190, 146, 237, 73, 223, 297, 18, 100, 209, 107, 162, 265, 283, 30, 172, 236, 239, 370]\n"
     ]
    },
    {
     "data": {
      "text/plain": [
       "array([ 63, 293, 114, 368,  35,  59, 114, 357, 276, 225,  61,   2, 170,\n",
       "        59, 201, 250, 325,  61, 285, 332, 348,  93, 223, 131, 183, 235,\n",
       "        49, 262, 370,  51,  67, 103, 150, 173, 364, 261, 159, 103, 215,\n",
       "       317, 275, 127, 166, 237, 346, 214, 286, 271, 360, 239, 225, 196,\n",
       "       243, 158, 241,  50,  10, 122, 369, 260,  48, 200, 229, 298, 329,\n",
       "       151, 276, 189,  93, 298, 256, 184, 225, 208,  15, 147,  59, 268,\n",
       "       143,  16, 295, 290,  89, 206, 362, 225,  12,  95, 233,  95,  81,\n",
       "       206, 341,  90,  33, 257, 111, 298, 174, 176,  45, 208, 281, 355,\n",
       "        97, 250, 217,  59,  77, 287, 318, 253,  67, 100, 271, 178, 197,\n",
       "       270, 203,  37,  17, 140, 202, 183, 298, 362, 104, 290, 195, 141,\n",
       "        42, 256, 193, 322, 190,  70,  84, 346,  30, 110, 131, 103, 161,\n",
       "        93,   6, 227, 155, 332, 368,  17, 128, 150, 282,   8,  56,  56,\n",
       "        85, 208,  35, 316,  72, 104, 367, 191, 130,  82, 233, 167, 163,\n",
       "       322,  63, 177, 206,  28,  93, 150, 261, 228,  62,  13,  53, 235,\n",
       "       182,  70,  26,  89, 237, 244, 284, 241, 201, 217, 205, 115, 215,\n",
       "        95, 348, 275, 244,  32, 209,  27, 152, 219, 129, 285,  50, 159,\n",
       "        40, 145, 107, 366, 122, 333, 279, 312,  74,  20, 249, 211, 182,\n",
       "       304, 120, 115, 171, 242,  78, 221,  61, 188, 257, 326, 166, 117,\n",
       "       245,  63, 336,  14, 200, 324,  64, 147,  80, 243, 187,  89,  13,\n",
       "       229,  27, 264, 156, 295,  84, 220,  42, 344,  55, 328, 213, 220,\n",
       "       255, 345, 123, 308, 184,   6, 240, 176, 140, 202, 209, 350, 361,\n",
       "       204, 192, 321,  88, 171, 275,  52, 151,  48,  31,  18, 359, 314,\n",
       "       335, 254, 358, 139, 194, 146,  59, 170,  41, 172, 351, 267, 211,\n",
       "        45, 202, 153,  52, 216, 304, 331, 129, 211, 214, 260, 256, 263,\n",
       "       304, 294, 262, 218, 302, 222, 323,  96,  20,  44, 182, 298, 361,\n",
       "       357, 259,  88,  18, 174, 106, 341, 236,  57, 120, 106, 289, 218,\n",
       "       341, 189, 287,  26,  22, 287, 297,  31, 303, 186, 137, 124, 325,\n",
       "       336, 274,  15, 187, 246, 134,  81,  59, 272, 298, 130, 258,  58,\n",
       "       214,  90, 127,  26, 232, 161, 275,  69, 286,  43,  42, 266, 343,\n",
       "       152,  86,   2,  42, 190, 146, 237,  73, 218, 296,  18, 100, 209,\n",
       "       107, 162, 265, 283,  30, 172, 231, 239, 370])"
      ]
     },
     "execution_count": 12,
     "metadata": {},
     "output_type": "execute_result"
    }
   ],
   "source": [
    "import pandas as pd\n",
    "\n",
    "data = pd.read_csv('us_births_69_88.csv')\n",
    "births = np.array(data['births'])\n",
    "\n",
    "n = len(births)\n",
    "mean = np.mean(births)\n",
    "K = 400\n",
    "\n",
    "sample_days = np.random.randint(0, n-1, K)\n",
    "sample_births = np.random.random_sample(K) * mean\n",
    "\n",
    "Donor, Probs = squaring_histogram(births)\n",
    "\n",
    "# Brutal for\n",
    "days = []\n",
    "for i in range(400):\n",
    "    day = sample_days[i]\n",
    "    day_prob = sample_births[i]\n",
    "    \n",
    "    if day_prob < Probs[day]:\n",
    "        days.append(day)\n",
    "    else:\n",
    "        days.append(Donor[day])\n",
    "\n",
    "print days\n",
    "\n",
    "sample_days[np.where(sample_days < Probs[sample_days])]"
   ]
  },
  {
   "cell_type": "markdown",
   "metadata": {},
   "source": [
    "**Problem 2d.** Show that the frequency histogram for empirical birthday frequencies can actually be computed exactly, and implement your idea. To this end, design a recurence relation using conditional probabilities and use dynamic programming."
   ]
  },
  {
   "cell_type": "code",
   "execution_count": null,
   "metadata": {
    "collapsed": true
   },
   "outputs": [],
   "source": []
  }
 ],
 "metadata": {
  "kernelspec": {
   "display_name": "Python [Root]",
   "language": "python",
   "name": "Python [Root]"
  },
  "language_info": {
   "codemirror_mode": {
    "name": "ipython",
    "version": 2
   },
   "file_extension": ".py",
   "mimetype": "text/x-python",
   "name": "python",
   "nbconvert_exporter": "python",
   "pygments_lexer": "ipython2",
   "version": "2.7.12"
  }
 },
 "nbformat": 4,
 "nbformat_minor": 1
}
