{
 "cells": [
  {
   "cell_type": "markdown",
   "metadata": {},
   "source": [
    "# Discrete sampling\n",
    "In the last problem of the first session we sampled with given probabilities using prefix sums and binary search. The sampling code is the bottleneck of the whole process, its running times is 3 times higher than the code for uniform probabilities, and the difference would only increase for larger number of outcomes. In the next two problems we discuss two simple, but powerful techniques one can use to sample in time $O(1)$."
   ]
  },
  {
   "cell_type": "markdown",
   "metadata": {},
   "source": [
    "**Problem 2a.** Consider the problem of sampling with known probabilities $p_1,\\ldots,p_d$. Suppose that you have a black-box that samples with probabilities $q_1,\\ldots,q_d$ that are close to $p_1,\\ldots,p_d$, say\n",
    "$$ \\forall_{i=1,\\ldots,n} p_i \\le (1+\\varepsilon)q_i.$$\n",
    "\n",
    "* How can you use this black-box to sample with probabilities $p_1,\\ldots,p_d$? It is expected, that the running time of the algorithm would be non-deterministic.\n",
    "* Prove that your algorithm is correct.\n",
    "* Implement the algorithm and use it to give a faster implementation for **Problem 1c**."
   ]
  },
  {
   "cell_type": "markdown",
   "metadata": {},
   "source": [
    "**Problem 2b.** One of the reasons this implementation is not significantly faster than the one in **Problem 1c** , apart from $d$ being rather small, is that we are using Python's interpreter a bit too much, and Python is slow. One way around this is usually to use a library function - **searchsorted** is much faster than an equivalent code implemented in pure Python. But even if the functionality you need is not implemented in a lower level language as\n",
    "a library function, there is still hope. You can try to implement it using optimized array algebra, for example using **numpy**. In this problem, your task is to rewrite the previous algorithm, so that the amount of *looping* is reduced to a minimum necessary. In particular, you should create a *vectorized* version of random dates generation (in bulk), while the actual search for duplicates remains a loop with a **set**. Here are some useful tips:\n",
    "   * You can perform arithmetic, comparisons, etc. on **numpy** arrays.\n",
    "   * You can generate whole **numpy** arrays of random numbers at once.\n",
    "   * You can even perform parallel look-up like in the example below."
   ]
  },
  {
   "cell_type": "code",
   "execution_count": 1,
   "metadata": {
    "collapsed": false
   },
   "outputs": [
    {
     "ename": "NameError",
     "evalue": "name 'np' is not defined",
     "output_type": "error",
     "traceback": [
      "\u001b[1;31m---------------------------------------------------------------------------\u001b[0m",
      "\u001b[1;31mNameError\u001b[0m                                 Traceback (most recent call last)",
      "\u001b[1;32m<ipython-input-1-542ca56e10d0>\u001b[0m in \u001b[0;36m<module>\u001b[1;34m()\u001b[0m\n\u001b[1;32m----> 1\u001b[1;33m \u001b[0mX\u001b[0m \u001b[1;33m=\u001b[0m \u001b[0mnp\u001b[0m\u001b[1;33m.\u001b[0m\u001b[0marray\u001b[0m\u001b[1;33m(\u001b[0m\u001b[1;33m[\u001b[0m\u001b[1;36m10\u001b[0m\u001b[1;33m,\u001b[0m\u001b[1;36m3\u001b[0m\u001b[1;33m,\u001b[0m\u001b[1;36m7\u001b[0m\u001b[1;33m]\u001b[0m\u001b[1;33m)\u001b[0m\u001b[1;33m\u001b[0m\u001b[0m\n\u001b[0m\u001b[0;32m      2\u001b[0m \u001b[0mI\u001b[0m \u001b[1;33m=\u001b[0m \u001b[0mnp\u001b[0m\u001b[1;33m.\u001b[0m\u001b[0marray\u001b[0m\u001b[1;33m(\u001b[0m\u001b[1;33m[\u001b[0m\u001b[1;36m1\u001b[0m\u001b[1;33m,\u001b[0m\u001b[1;36m1\u001b[0m\u001b[1;33m,\u001b[0m\u001b[1;36m2\u001b[0m\u001b[1;33m,\u001b[0m\u001b[1;36m2\u001b[0m\u001b[1;33m]\u001b[0m\u001b[1;33m)\u001b[0m\u001b[1;33m\u001b[0m\u001b[0m\n\u001b[0;32m      3\u001b[0m \u001b[1;32mprint\u001b[0m\u001b[1;33m(\u001b[0m\u001b[0mX\u001b[0m\u001b[1;33m[\u001b[0m\u001b[0mI\u001b[0m\u001b[1;33m]\u001b[0m\u001b[1;33m)\u001b[0m\u001b[1;33m\u001b[0m\u001b[0m\n\u001b[0;32m      4\u001b[0m \u001b[0mX\u001b[0m \u001b[1;33m=\u001b[0m \u001b[0mnp\u001b[0m\u001b[1;33m.\u001b[0m\u001b[0marray\u001b[0m\u001b[1;33m(\u001b[0m\u001b[1;33m[\u001b[0m\u001b[1;33m[\u001b[0m\u001b[1;36m1\u001b[0m\u001b[1;33m,\u001b[0m\u001b[1;36m2\u001b[0m\u001b[1;33m]\u001b[0m\u001b[1;33m,\u001b[0m\u001b[1;33m[\u001b[0m\u001b[1;36m3\u001b[0m\u001b[1;33m,\u001b[0m\u001b[1;36m4\u001b[0m\u001b[1;33m]\u001b[0m\u001b[1;33m]\u001b[0m\u001b[1;33m)\u001b[0m\u001b[1;33m\u001b[0m\u001b[0m\n\u001b[0;32m      5\u001b[0m \u001b[0mI\u001b[0m \u001b[1;33m=\u001b[0m \u001b[0mnp\u001b[0m\u001b[1;33m.\u001b[0m\u001b[0marray\u001b[0m\u001b[1;33m(\u001b[0m\u001b[1;33m[\u001b[0m\u001b[1;36m0\u001b[0m\u001b[1;33m,\u001b[0m\u001b[1;36m0\u001b[0m\u001b[1;33m,\u001b[0m\u001b[1;36m1\u001b[0m\u001b[1;33m]\u001b[0m\u001b[1;33m)\u001b[0m\u001b[1;33m\u001b[0m\u001b[0m\n",
      "\u001b[1;31mNameError\u001b[0m: name 'np' is not defined"
     ]
    }
   ],
   "source": [
    "X = np.array([10,3,7])\n",
    "I = np.array([1,1,2,2])\n",
    "print(X[I])\n",
    "X = np.array([[1,2],[3,4]])\n",
    "I = np.array([0,0,1])\n",
    "J = np.array([1,0,1])\n",
    "print(X[I,J])"
   ]
  },
  {
   "cell_type": "markdown",
   "metadata": {},
   "source": [
    "**Problem 2c (Squaring the histogram).** In this problem, we again want to sample with known probabilities $p_1,\\ldots,p_n$, but this time we make no assumptions on $p_i$. Consider the following algorithm:\n",
    "   * Let $V$ be the mean of $p_i$, i.e. $V=\\frac{1}{n}$.\n",
    "   * Create $n$ buckets, each with volume $V$, put each $p_i$ into a separate bucket.\n",
    "   * Until there exists a bucket $A$ that is not full, find a bucket $B$ that overflows, and trasfer probability from $B$ to $A$ until $A$ is exactly full\n",
    "\n",
    "Show that:\n",
    "   * This algorithm always ends.\n",
    "   * When it ends, each bucket contains pieces of exactly two $p_i$'s.\n",
    "\n",
    "How to use the result of this algorithm to sample with probabilities $p_i$. Argue that your algorithm is correct and implement it. The sampling part should be *vectorized*. Use this algorithm to sample birthdates again, and test its efficiency."
   ]
  },
  {
   "cell_type": "markdown",
   "metadata": {},
   "source": [
    "Operation of transferring probability from one bucket to another doesn't change mean ($V = 1/n$).\n",
    "\n",
    "In each step we take one untouched bucket: $B_1$ with volume < V then there's another bucket $B_2$ with volume > V (otherwise mean would be smaller than V - cannot be true). We take from another bucket desired volume to fill to V and we put away bucket $B_1$ (we will never touch it again) marking that it had some volume donated from $B_2$.\n",
    "\n",
    "If we can't take any bucket that has volume < V it means that all of the buckets have volume >= V. It's not possible for any bucket to have volume > V since then mean > V - cannot be true - then all of buckets have volume of V.\n",
    "\n",
    "In the end bucket will containt pieces of two $p_i$'s at max - original and donor unless it started with volume equal V or was big enough to fill other buckets still maintaining volume V."
   ]
  },
  {
   "cell_type": "code",
   "execution_count": 1,
   "metadata": {
    "collapsed": false
   },
   "outputs": [],
   "source": [
    "import numpy as np\n",
    "\n",
    "p = np.linspace(0, 1, num=5)\n",
    "\n",
    "def squaring_histogram(p):\n",
    "    B = np.array(p, dtype='f') # Bucket\n",
    "    N = B.size\n",
    "\n",
    "    mean = np.mean(B)\n",
    "    \n",
    "    Donor = np.arange(N)\n",
    "    Probs = np.empty(N)\n",
    "    Probs.fill(mean)\n",
    "    \n",
    "    while np.count_nonzero(B < mean):\n",
    "\n",
    "        i = np.where(B < mean)[0][0]\n",
    "        j = np.where(B > mean)[0][0]\n",
    "\n",
    "        Donor[i] = j\n",
    "        Probs[i] = B[i]\n",
    "        \n",
    "        B[j] = B[j] - (mean - B[i])\n",
    "        B[i] = mean\n",
    "        \n",
    "    return Donor, Probs"
   ]
  },
  {
   "cell_type": "code",
   "execution_count": 2,
   "metadata": {
    "collapsed": false
   },
   "outputs": [
    {
     "name": "stdout",
     "output_type": "stream",
     "text": [
      "100 loops, best of 3: 5.29 ms per loop\n"
     ]
    }
   ],
   "source": [
    "import pandas as pd\n",
    "\n",
    "data = pd.read_csv('us_births_69_88.csv')\n",
    "births = np.array(data['births'])\n",
    "\n",
    "%timeit squaring_histogram(births)"
   ]
  },
  {
   "cell_type": "code",
   "execution_count": 13,
   "metadata": {
    "collapsed": false
   },
   "outputs": [
    {
     "data": {
      "text/plain": [
       "24"
      ]
     },
     "execution_count": 13,
     "metadata": {},
     "output_type": "execute_result"
    }
   ],
   "source": [
    "n = births.size\n",
    "mean = np.mean(births)\n",
    "K = 60\n",
    "\n",
    "sample_days = np.random.randint(0, n-1, K)\n",
    "sample_births = np.random.random_sample(K) * mean\n",
    "\n",
    "Donor, Probs = squaring_histogram(births)\n",
    "\n",
    "# Brutal for explained\n",
    "days = []\n",
    "for i in range(K):\n",
    "    day = sample_days[i]\n",
    "    day_prob = sample_births[i]\n",
    "    \n",
    "    if day_prob < Probs[day]:\n",
    "        # We are below separator, we are using original value\n",
    "        days.append(day)\n",
    "    else:\n",
    "        # We are above separator, we need to use donor's value\n",
    "        days.append(Donor[day])\n",
    "\n",
    "# Vectorizing to get the same result as in for above\n",
    "use_original_value = sample_births < Probs[sample_days]\n",
    "use_donor_value = ~use_original_value\n",
    "sample_days[use_donor_value] = Donor[sample_days[use_donor_value]]\n",
    "\n",
    "# Trying to figure out where repetition took place\n",
    "_, indx = np.unique(sample_days, return_index=True)\n",
    "# http://stackoverflow.com/questions/16940895/numpy-array-change-the-values-that-are-not-in-a-list-of-indices\n",
    "indexes = np.arange(K)\n",
    "mask = np.ones_like(indexes, dtype=bool)\n",
    "mask[indx] = False\n",
    "indexes[mask][0]"
   ]
  },
  {
   "cell_type": "markdown",
   "metadata": {},
   "source": [
    "We have all necessary pieces to create simulation"
   ]
  },
  {
   "cell_type": "code",
   "execution_count": 12,
   "metadata": {
    "collapsed": false
   },
   "outputs": [
    {
     "name": "stdout",
     "output_type": "stream",
     "text": [
      "#Samples = 1000000 - runtime: 67.6328830719s\n"
     ]
    },
    {
     "data": {
      "image/png": "[encoded data removed]",
      "text/plain": [
       "<matplotlib.figure.Figure at 0x7f3a82358e90>"
      ]
     },
     "metadata": {},
     "output_type": "display_data"
    }
   ],
   "source": [
    "import matplotlib.pyplot as plt\n",
    "import seaborn; seaborn.set()\n",
    "import time\n",
    "%matplotlib inline\n",
    "\n",
    "# Times of repetition\n",
    "samples = 10**6\n",
    "K = 60\n",
    "# Square histogram, get donors and separating probabilities\n",
    "Donor, Probs = squaring_histogram(births)\n",
    "\n",
    "start = time.time()\n",
    "results = []\n",
    "for i in xrange(samples):\n",
    "    # Generate sample vectors\n",
    "    sample_days = np.random.randint(0, n-1, K)\n",
    "    sample_births = np.random.random_sample(K) * mean\n",
    "    \n",
    "    # Generating real values of days using squared histogram\n",
    "    use_original_value = sample_births < Probs[sample_days]\n",
    "    use_donor_value = ~use_original_value\n",
    "    sample_days[use_donor_value] = Donor[sample_days[use_donor_value]]\n",
    "    \n",
    "    # Finding repetition - Vectorized\n",
    "    _, indx = np.unique(sample_days, return_index=True)\n",
    "    indexes = np.arange(n)\n",
    "    mask = np.ones_like(indexes, dtype=bool)\n",
    "    mask[indx] = False\n",
    "    results.append(indexes[mask][0])\n",
    "\n",
    "end = time.time()\n",
    "\n",
    "plt.hist(results, np.arange(K))\n",
    "\n",
    "print(\"#Samples = {} - runtime: {}s\".format(samples, end-start))\n"
   ]
  },
  {
   "cell_type": "markdown",
   "metadata": {},
   "source": [
    "now that I understand everything I will try to do **full vectorization!**"
   ]
  },
  {
   "cell_type": "code",
   "execution_count": 29,
   "metadata": {
    "collapsed": false
   },
   "outputs": [
    {
     "name": "stdout",
     "output_type": "stream",
     "text": [
      "#Samples = 1000000 - runtime: 42.2828090191s\n"
     ]
    },
    {
     "data": {
      "image/png": "[encoded data removed]",
      "text/plain": [
       "<matplotlib.figure.Figure at 0x7f3a884ad3d0>"
      ]
     },
     "metadata": {},
     "output_type": "display_data"
    }
   ],
   "source": [
    "import matplotlib.pyplot as plt\n",
    "import seaborn; seaborn.set()\n",
    "import time\n",
    "%matplotlib inline\n",
    "\n",
    "# Times of repetition\n",
    "samples = 10**6\n",
    "K = 60 # K >= 80 - getting out of memory error\n",
    "\n",
    "Donor, Probs = squaring_histogram(births)\n",
    "\n",
    "start = time.time()\n",
    "sample_days = np.random.randint(0, n-1, (samples, K))\n",
    "sample_births = np.random.random_sample((samples,K)) * mean\n",
    "use_original_value = sample_births < Probs[sample_days]\n",
    "use_donor_value = ~use_original_value\n",
    "sample_days[use_donor_value] = Donor[sample_days[use_donor_value]]\n",
    "\n",
    "# here i can't think of anything good...\n",
    "indexes = np.arange(n)\n",
    "def find_repetition(a):\n",
    "    _, uniq_ind = np.unique(a, return_index=True)\n",
    "    mask = np.ones_like(indexes, dtype=bool)\n",
    "    mask[uniq_ind] = False\n",
    "    return(indexes[mask][0])\n",
    "    \n",
    "result = np.apply_along_axis(find_repetition, 1, sample_days)\n",
    "end = time.time()\n",
    "\n",
    "plt.hist(results, np.arange(K))\n",
    "\n",
    "print(\"#Samples = {} - runtime: {}s\".format(samples, end-start))\n"
   ]
  },
  {
   "cell_type": "markdown",
   "metadata": {},
   "source": [
    "**Problem 2d.** Show that the frequency histogram for empirical birthday frequencies can actually be computed exactly, and implement your idea. To this end, design a recurence relation using conditional probabilities and use dynamic programming."
   ]
  }
 ],
 "metadata": {
  "kernelspec": {
   "display_name": "Python [Root]",
   "language": "python",
   "name": "Python [Root]"
  },
  "language_info": {
   "codemirror_mode": {
    "name": "ipython",
    "version": 2
   },
   "file_extension": ".py",
   "mimetype": "text/x-python",
   "name": "python",
   "nbconvert_exporter": "python",
   "pygments_lexer": "ipython2",
   "version": "2.7.12"
  }
 },
 "nbformat": 4,
 "nbformat_minor": 1
}
